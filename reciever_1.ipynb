{
 "cells": [
  {
   "cell_type": "code",
   "execution_count": 5,
   "id": "5ae5e01a-e78e-404b-8d4e-54666ea0bb3e",
   "metadata": {},
   "outputs": [],
   "source": [
    "import os\n",
    "import time\n",
    "from cryptography.fernet import Fernet\n",
    "# Shared file as the storage\n",
    "shared_file = 'shared.txt'\n",
    "\n",
    "# Load the key from the file\n",
    "def load_key():\n",
    "    return open('secret.key', 'rb').read()\n",
    "cipher_suite = Fernet(load_key())"
   ]
  },
  {
   "cell_type": "code",
   "execution_count": 6,
   "id": "43e56635-875c-4327-ab99-3bbb1bcc2c9d",
   "metadata": {},
   "outputs": [],
   "source": [
    "def read_message():\n",
    "    with open(shared_file, 'rb') as file:\n",
    "        encrypted_message = file.read()\n",
    "        # Decrypt the message\n",
    "        decrypted_message = cipher_suite.decrypt(encrypted_message)\n",
    "        return decrypted_message.decode()\n",
    "\n",
    "def receiver():\n",
    "    last_modified = os.path.getmtime(shared_file)\n",
    "    while True:\n",
    "        time.sleep(1)  # Check for changes every second\n",
    "        current_modified = os.path.getmtime(shared_file)\n",
    "        if current_modified != last_modified:\n",
    "            print(\"Receiver detected a change in the shared file.\")\n",
    "            new_message=read_message()\n",
    "            print(\"New message:\", new_message)\n",
    "            if new_message==\"Finish!\":\n",
    "                break;\n",
    "            last_modified = current_modified"
   ]
  },
  {
   "cell_type": "code",
   "execution_count": 7,
   "id": "01c7403a-ece8-4022-ba32-c670f81d206a",
   "metadata": {},
   "outputs": [
    {
     "name": "stdout",
     "output_type": "stream",
     "text": [
      "Receiver detected a change in the shared file.\n",
      "New message: Covert message\n",
      "Receiver detected a change in the shared file.\n",
      "New message: Hello!\n",
      "Receiver detected a change in the shared file.\n",
      "New message: Finish!\n"
     ]
    }
   ],
   "source": [
    "receiver()"
   ]
  },
  {
   "cell_type": "code",
   "execution_count": null,
   "id": "b5566745-524a-48da-b491-2499f91fd88f",
   "metadata": {},
   "outputs": [],
   "source": []
  }
 ],
 "metadata": {
  "kernelspec": {
   "display_name": "Python 3 (ipykernel)",
   "language": "python",
   "name": "python3"
  },
  "language_info": {
   "codemirror_mode": {
    "name": "ipython",
    "version": 3
   },
   "file_extension": ".py",
   "mimetype": "text/x-python",
   "name": "python",
   "nbconvert_exporter": "python",
   "pygments_lexer": "ipython3",
   "version": "3.8.18"
  }
 },
 "nbformat": 4,
 "nbformat_minor": 5
}
