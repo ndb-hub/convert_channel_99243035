{
 "cells": [
  {
   "cell_type": "code",
   "execution_count": 1,
   "id": "5ae5e01a-e78e-404b-8d4e-54666ea0bb3e",
   "metadata": {},
   "outputs": [],
   "source": [
    "import os\n",
    "import time\n",
    "from cryptography.fernet import Fernet\n",
    "# Shared file as the storage\n",
    "shared_file = 'shared.txt'\n",
    "\n",
    "# Load the key from the file\n",
    "def load_key():\n",
    "    return open('secret.key', 'rb').read()\n",
    "cipher_suite = Fernet(load_key())"
   ]
  },
  {
   "cell_type": "code",
   "execution_count": 2,
   "id": "43e56635-875c-4327-ab99-3bbb1bcc2c9d",
   "metadata": {},
   "outputs": [],
   "source": [
    "def read_message():\n",
    "    with open(shared_file, 'rb') as file:\n",
    "        encrypted_message = file.read()\n",
    "        decrypted_message = cipher_suite.decrypt(encrypted_message)\n",
    "        return decrypted_message.decode(), len(encrypted_message) * 8  # Return the message and its size in bits\n",
    "\n",
    "def receiver():\n",
    "    last_check = time.perf_counter()\n",
    "    last_modified = os.path.getmtime(shared_file)\n",
    "    data_rates = []  # List to store data rates for averaging\n",
    "\n",
    "    while True:\n",
    "        time.sleep(1)  # Check for changes every second\n",
    "        current_check = time.perf_counter()\n",
    "        current_modified = os.path.getmtime(shared_file)\n",
    "        if current_modified != last_modified:\n",
    "            new_message, message_size_bits = read_message()\n",
    "            elapsed_time = current_check - last_check\n",
    "            data_rate = message_size_bits / elapsed_time  # Calculate data rate in bits per second\n",
    "            data_rates.append(data_rate)  # Add to list for averaging\n",
    "\n",
    "            print(f\"Receiver detected a change in the shared file.\")\n",
    "            print(f\"New message: {new_message}\")\n",
    "            print(f\"Data exchange speed: {data_rate} bits per second\")\n",
    "\n",
    "            if new_message == \"Finish!\":\n",
    "                break\n",
    "            last_modified = current_modified\n",
    "            last_check = current_check  # Update last check time\n",
    "\n",
    "    # Calculate the average data rate\n",
    "    average_data_rate = sum(data_rates) / len(data_rates)\n",
    "    print(f\"Average data exchange speed: {average_data_rate} bits per second\")\n"
   ]
  },
  {
   "cell_type": "code",
   "execution_count": 3,
   "id": "01c7403a-ece8-4022-ba32-c670f81d206a",
   "metadata": {},
   "outputs": [
    {
     "name": "stdout",
     "output_type": "stream",
     "text": [
      "Receiver detected a change in the shared file.\n",
      "New message: Covert message\n",
      "Data exchange speed: 99.34423368068765 bits per second\n",
      "Receiver detected a change in the shared file.\n",
      "New message: Hello!\n",
      "Data exchange speed: 625.5145345729625 bits per second\n",
      "Receiver detected a change in the shared file.\n",
      "New message: Finish!\n",
      "Data exchange speed: 393.12535789765366 bits per second\n",
      "Average data exchange speed: 372.66137538376796 bits per second\n"
     ]
    }
   ],
   "source": [
    "receiver()"
   ]
  },
  {
   "cell_type": "code",
   "execution_count": null,
   "id": "b5566745-524a-48da-b491-2499f91fd88f",
   "metadata": {},
   "outputs": [],
   "source": []
  }
 ],
 "metadata": {
  "kernelspec": {
   "display_name": "Python 3 (ipykernel)",
   "language": "python",
   "name": "python3"
  },
  "language_info": {
   "codemirror_mode": {
    "name": "ipython",
    "version": 3
   },
   "file_extension": ".py",
   "mimetype": "text/x-python",
   "name": "python",
   "nbconvert_exporter": "python",
   "pygments_lexer": "ipython3",
   "version": "3.8.18"
  }
 },
 "nbformat": 4,
 "nbformat_minor": 5
}
