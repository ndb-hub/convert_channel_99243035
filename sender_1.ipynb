{
 "cells": [
  {
   "cell_type": "code",
   "execution_count": 7,
   "id": "04d2d64c-7dac-423c-bbff-443413ba3d14",
   "metadata": {},
   "outputs": [],
   "source": [
    "import os\n",
    "import time\n",
    "from cryptography.fernet import Fernet\n",
    "# Shared file as the storage \n",
    "shared_file = 'shared.txt'\n"
   ]
  },
  {
   "cell_type": "code",
   "execution_count": 2,
   "id": "908d2153-a884-4b59-8f72-1b5ebbec5604",
   "metadata": {},
   "outputs": [],
   "source": [
    "key = Fernet.generate_key()\n",
    "with open('secret.key', 'wb') as key_file:\n",
    "    key_file.write(key)\n"
   ]
  },
  {
   "cell_type": "code",
   "execution_count": 8,
   "id": "33aab251-ca7e-41d1-93c1-9a5733b2601c",
   "metadata": {},
   "outputs": [],
   "source": [
    "# Load the key from the file\n",
    "def load_key():\n",
    "    return open('secret.key', 'rb').read()\n",
    "cipher_suite = Fernet(load_key())"
   ]
  },
  {
   "cell_type": "code",
   "execution_count": 9,
   "id": "243700b4-975b-494a-863c-c09e57fe2833",
   "metadata": {},
   "outputs": [],
   "source": [
    "def write_message(message):\n",
    "    encrypted_message = cipher_suite.encrypt(message.encode())\n",
    "    with open(shared_file, 'wb') as file:\n",
    "        file.write(encrypted_message)\n",
    "\n",
    "def sender(message):\n",
    "    write_message(message)\n",
    "    print(\"Sender has written the message to the shared file.\")"
   ]
  },
  {
   "cell_type": "code",
   "execution_count": 10,
   "id": "4a457906-9355-4afa-9c1d-c502c59604cd",
   "metadata": {},
   "outputs": [
    {
     "name": "stdout",
     "output_type": "stream",
     "text": [
      "Sender has written the message to the shared file.\n"
     ]
    }
   ],
   "source": [
    "secret_message = 'Covert message'\n",
    "sender(secret_message)"
   ]
  },
  {
   "cell_type": "code",
   "execution_count": 11,
   "id": "d45ec582-d604-4140-8beb-8b3e9da7048c",
   "metadata": {},
   "outputs": [
    {
     "name": "stdout",
     "output_type": "stream",
     "text": [
      "Sender has written the message to the shared file.\n"
     ]
    }
   ],
   "source": [
    "secret_message = 'Hello!'\n",
    "sender(secret_message)"
   ]
  },
  {
   "cell_type": "code",
   "execution_count": 12,
   "id": "38fe93c9-2faf-4139-8a62-1180c24346bd",
   "metadata": {},
   "outputs": [
    {
     "name": "stdout",
     "output_type": "stream",
     "text": [
      "Sender has written the message to the shared file.\n"
     ]
    }
   ],
   "source": [
    "secret_message = 'Finish!'\n",
    "sender(secret_message)"
   ]
  },
  {
   "cell_type": "code",
   "execution_count": null,
   "id": "9cd29860-0a25-4762-bb36-0cce0279b392",
   "metadata": {},
   "outputs": [],
   "source": []
  }
 ],
 "metadata": {
  "kernelspec": {
   "display_name": "Python 3 (ipykernel)",
   "language": "python",
   "name": "python3"
  },
  "language_info": {
   "codemirror_mode": {
    "name": "ipython",
    "version": 3
   },
   "file_extension": ".py",
   "mimetype": "text/x-python",
   "name": "python",
   "nbconvert_exporter": "python",
   "pygments_lexer": "ipython3",
   "version": "3.8.18"
  }
 },
 "nbformat": 4,
 "nbformat_minor": 5
}
